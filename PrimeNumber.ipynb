{
  "nbformat": 4,
  "nbformat_minor": 0,
  "metadata": {
    "colab": {
      "name": "PrimeNumber.ipynb",
      "provenance": [],
      "authorship_tag": "ABX9TyP+asw2H0FvG4RQFcy5lZpu",
      "include_colab_link": true
    },
    "kernelspec": {
      "name": "python3",
      "display_name": "Python 3"
    },
    "language_info": {
      "name": "python"
    }
  },
  "cells": [
    {
      "cell_type": "markdown",
      "metadata": {
        "id": "view-in-github",
        "colab_type": "text"
      },
      "source": [
        "<a href=\"https://colab.research.google.com/github/jb0071075/python-assignments/blob/main/PrimeNumber.ipynb\" target=\"_parent\"><img src=\"https://colab.research.google.com/assets/colab-badge.svg\" alt=\"Open In Colab\"/></a>"
      ]
    },
    {
      "cell_type": "code",
      "metadata": {
        "colab": {
          "base_uri": "https://localhost:8080/"
        },
        "id": "jRJJvNKMHe1e",
        "outputId": "f0a46a1b-f847-4d79-c284-4f134e9d5a50"
      },
      "source": [
        "n = int(input('Enter a number: '))\n",
        "for i in range(2, n):\n",
        "  if n%i == 0:\n",
        "    print(False)\n",
        "    break\n",
        "else:\n",
        "     print(True) \n",
        "\n"
      ],
      "execution_count": 11,
      "outputs": [
        {
          "output_type": "stream",
          "name": "stdout",
          "text": [
            "Enter a number: 20\n",
            "False\n"
          ]
        }
      ]
    }
  ]
}