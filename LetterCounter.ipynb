{
  "nbformat": 4,
  "nbformat_minor": 0,
  "metadata": {
    "colab": {
      "name": "LetterCounter.ipynb",
      "provenance": [],
      "authorship_tag": "ABX9TyMYhTYx/cqUqXXzh8nUqmpV",
      "include_colab_link": true
    },
    "kernelspec": {
      "name": "python3",
      "display_name": "Python 3"
    },
    "language_info": {
      "name": "python"
    }
  },
  "cells": [
    {
      "cell_type": "markdown",
      "metadata": {
        "id": "view-in-github",
        "colab_type": "text"
      },
      "source": [
        "<a href=\"https://colab.research.google.com/github/jb0071075/python-assignments/blob/main/LetterCounter.ipynb\" target=\"_parent\"><img src=\"https://colab.research.google.com/assets/colab-badge.svg\" alt=\"Open In Colab\"/></a>"
      ]
    },
    {
      "cell_type": "code",
      "execution_count": 21,
      "metadata": {
        "colab": {
          "base_uri": "https://localhost:8080/"
        },
        "id": "R3nWcQejHdBR",
        "outputId": "11e49097-4ef1-4b14-d285-d67155011951"
      },
      "outputs": [
        {
          "output_type": "stream",
          "name": "stdout",
          "text": [
            "Johnny said vroom while playing with his toy cars\n",
            "{'J': 1, 'o': 4, 'h': 4, 'n': 3, 'y': 3, ' ': 8, 's': 3, 'a': 3, 'i': 5, 'd': 1, 'v': 1, 'r': 2, 'm': 1, 'w': 2, 'l': 2, 'e': 1, 'p': 1, 'g': 1, 't': 2, 'c': 1}\n"
          ]
        }
      ],
      "source": [
        "letter = input()\n",
        "dict = {}\n",
        "for x in letter:\n",
        "  keys = dict.keys()\n",
        "  if x in keys:\n",
        "    dict[x] += 1\n",
        "  else:\n",
        "    dict[x] = 1\n",
        "\n",
        "print(dict)\n",
        "\n",
        "    \n",
        "  "
      ]
    }
  ]
}