{
  "nbformat": 4,
  "nbformat_minor": 0,
  "metadata": {
    "colab": {
      "name": "Untitled32.ipynb",
      "provenance": [],
      "authorship_tag": "ABX9TyN4NKBJW38F2bc3RtJ+nJM9",
      "include_colab_link": true
    },
    "kernelspec": {
      "name": "python3",
      "display_name": "Python 3"
    },
    "language_info": {
      "name": "python"
    }
  },
  "cells": [
    {
      "cell_type": "markdown",
      "metadata": {
        "id": "view-in-github",
        "colab_type": "text"
      },
      "source": [
        "<a href=\"https://colab.research.google.com/github/jb0071075/python-assignments/blob/main/FizzBuzz.ipynb\" target=\"_parent\"><img src=\"https://colab.research.google.com/assets/colab-badge.svg\" alt=\"Open In Colab\"/></a>"
      ]
    },
    {
      "cell_type": "code",
      "metadata": {
        "colab": {
          "base_uri": "https://localhost:8080/"
        },
        "id": "M945WcjP64gX",
        "outputId": "c6a8f78c-3d1f-474a-aa01-ce7d1a5abf94"
      },
      "source": [
        "for num in range(1, 101):\n",
        "  if num % 15 == 0:\n",
        "    print(\"FizzBuzz\")\n",
        "  elif num % 5 == 0:\n",
        "    print(\"Buzz\")\n",
        "  elif num % 3 == 0:\n",
        "    print(\"Frizz\")  \n",
        "  else:\n",
        "    print(num) \n",
        "  "
      ],
      "execution_count": 6,
      "outputs": [
        {
          "output_type": "stream",
          "name": "stdout",
          "text": [
            "1\n",
            "2\n",
            "Frizz\n",
            "4\n",
            "Buzz\n",
            "Frizz\n",
            "7\n",
            "8\n",
            "Frizz\n",
            "Buzz\n",
            "11\n",
            "Frizz\n",
            "13\n",
            "14\n",
            "FizzBuzz\n",
            "16\n",
            "17\n",
            "Frizz\n",
            "19\n",
            "Buzz\n",
            "Frizz\n",
            "22\n",
            "23\n",
            "Frizz\n",
            "Buzz\n",
            "26\n",
            "Frizz\n",
            "28\n",
            "29\n",
            "FizzBuzz\n",
            "31\n",
            "32\n",
            "Frizz\n",
            "34\n",
            "Buzz\n",
            "Frizz\n",
            "37\n",
            "38\n",
            "Frizz\n",
            "Buzz\n",
            "41\n",
            "Frizz\n",
            "43\n",
            "44\n",
            "FizzBuzz\n",
            "46\n",
            "47\n",
            "Frizz\n",
            "49\n",
            "Buzz\n",
            "Frizz\n",
            "52\n",
            "53\n",
            "Frizz\n",
            "Buzz\n",
            "56\n",
            "Frizz\n",
            "58\n",
            "59\n",
            "FizzBuzz\n",
            "61\n",
            "62\n",
            "Frizz\n",
            "64\n",
            "Buzz\n",
            "Frizz\n",
            "67\n",
            "68\n",
            "Frizz\n",
            "Buzz\n",
            "71\n",
            "Frizz\n",
            "73\n",
            "74\n",
            "FizzBuzz\n",
            "76\n",
            "77\n",
            "Frizz\n",
            "79\n",
            "Buzz\n",
            "Frizz\n",
            "82\n",
            "83\n",
            "Frizz\n",
            "Buzz\n",
            "86\n",
            "Frizz\n",
            "88\n",
            "89\n",
            "FizzBuzz\n",
            "91\n",
            "92\n",
            "Frizz\n",
            "94\n",
            "Buzz\n",
            "Frizz\n",
            "97\n",
            "98\n",
            "Frizz\n",
            "Buzz\n"
          ]
        }
      ]
    }
  ]
}